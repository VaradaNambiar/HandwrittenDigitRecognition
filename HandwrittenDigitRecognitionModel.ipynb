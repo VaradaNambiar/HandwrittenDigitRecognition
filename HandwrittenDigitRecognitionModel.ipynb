{
 "cells": [
  {
   "cell_type": "code",
   "execution_count": null,
   "id": "2e48966d",
   "metadata": {},
   "outputs": [],
   "source": [
    "import tensorflow as tf\n",
    "from tensorflow.keras import layers, models\n",
    "import numpy as np\n",
    "import matplotlib.pyplot as plt"
   ]
  },
  {
   "cell_type": "code",
   "execution_count": null,
   "id": "98214efd",
   "metadata": {},
   "outputs": [],
   "source": [
    "(x_train, y_train), (x_test, y_test) = tf.keras.datasets.mnist.load_data()"
   ]
  },
  {
   "cell_type": "code",
   "execution_count": null,
   "id": "08c24f66",
   "metadata": {},
   "outputs": [],
   "source": [
    "y_train #digit \n"
   ]
  },
  {
   "cell_type": "code",
   "execution_count": null,
   "id": "8fda40df",
   "metadata": {
    "scrolled": true
   },
   "outputs": [],
   "source": [
    "x_train[0]\n",
    "plt.imshow(x_train[0], cmap='gray')"
   ]
  },
  {
   "cell_type": "code",
   "execution_count": null,
   "id": "2f09b13d",
   "metadata": {},
   "outputs": [],
   "source": [
    "# standardise values in X (change from 0 -> 255 range to 0->1 range)\n",
    "x_train, x_test = x_train/255.0, x_test/255.0"
   ]
  },
  {
   "cell_type": "code",
   "execution_count": null,
   "id": "7c241945",
   "metadata": {},
   "outputs": [],
   "source": [
    "model = models.Sequential([\n",
    "    layers.Flatten(input_shape=(28, 28)),\n",
    "    layers.Dense(128, activation='relu'), \n",
    "    layers.Dense(10, activation='softmax')\n",
    "])"
   ]
  },
  {
   "cell_type": "code",
   "execution_count": null,
   "id": "42b9e176",
   "metadata": {},
   "outputs": [],
   "source": [
    "# Neural network with \n",
    "# input layer : flattened->  to get an input layer of 28*28 = 784 nodes\n",
    "# hidden layer : 128 nodes; dense:-> all the nodes in current layer is connected to all of previous layer's node \n",
    "# output layer: 10 nodes, activation function : softmax\n",
    "\n",
    "model.compile(optimizer = 'adam', loss='sparse_categorical_crossentropy', metrics=['accuracy'])\n",
    "model.summary()"
   ]
  },
  {
   "cell_type": "code",
   "execution_count": null,
   "id": "f534c8f4",
   "metadata": {},
   "outputs": [],
   "source": [
    "history5 = model.fit(x_train, y_train, epochs=5)"
   ]
  },
  {
   "cell_type": "code",
   "execution_count": null,
   "id": "d8d5b7b7",
   "metadata": {},
   "outputs": [],
   "source": [
    "history10 = model.fit(x_train, y_train, epochs=10)"
   ]
  },
  {
   "cell_type": "code",
   "execution_count": null,
   "id": "3d4ecfce",
   "metadata": {},
   "outputs": [],
   "source": [
    "test_loss, test_accuracy = model.evaluate(x_test, y_test)\n",
    "print(f'Test accuracy: {test_accuracy*100:.2f}%')"
   ]
  },
  {
   "cell_type": "code",
   "execution_count": null,
   "id": "b566a9dc",
   "metadata": {},
   "outputs": [],
   "source": [
    "predictions = model.predict(x_test)\n",
    "print(predictions) # softmax gives probability values for each output neuron\n",
    "print('Predictions Shape- ', predictions.shape)  "
   ]
  },
  {
   "cell_type": "code",
   "execution_count": null,
   "id": "32d944e6",
   "metadata": {},
   "outputs": [],
   "source": [
    "print(predictions[0])\n",
    "print(np.argmax(predictions[0]))"
   ]
  },
  {
   "cell_type": "code",
   "execution_count": null,
   "id": "4a854ed8",
   "metadata": {},
   "outputs": [],
   "source": [
    "plt.imshow(x_test[0], cmap='gray')"
   ]
  },
  {
   "cell_type": "code",
   "execution_count": null,
   "id": "f5c972ee",
   "metadata": {},
   "outputs": [],
   "source": [
    "for val in range(0, 10):\n",
    "    plt.imshow(x_test[val], cmap='gray')\n",
    "    plt.title(f\"True value: {y_test[val]}, Predicted value: {np.argmax(predictions[val])}\")\n",
    "    plt.show()"
   ]
  },
  {
   "cell_type": "code",
   "execution_count": null,
   "id": "6bf70988",
   "metadata": {},
   "outputs": [],
   "source": [
    "plt.plot(history10.history['loss'], label='Training loss')\n",
    "plt.xlabel('Epoch')\n",
    "plt.ylabel('Loss')\n",
    "plt.title('Loss vs Epoch')\n",
    "plt.show()"
   ]
  }
 ],
 "metadata": {
  "kernelspec": {
   "display_name": "digitsrecog",
   "language": "python",
   "name": "digitsrecog"
  },
  "language_info": {
   "codemirror_mode": {
    "name": "ipython",
    "version": 3
   },
   "file_extension": ".py",
   "mimetype": "text/x-python",
   "name": "python",
   "nbconvert_exporter": "python",
   "pygments_lexer": "ipython3",
   "version": "3.10.4"
  }
 },
 "nbformat": 4,
 "nbformat_minor": 5
}
